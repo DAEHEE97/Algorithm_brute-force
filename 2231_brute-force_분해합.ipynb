{
 "cells": [
  {
   "cell_type": "markdown",
   "id": "ff3316a3",
   "metadata": {},
   "source": [
    "# 2231_brute-force-분해합\n"
   ]
  },
  {
   "cell_type": "markdown",
   "id": "8911ec8e",
   "metadata": {},
   "source": [
    "---"
   ]
  },
  {
   "cell_type": "markdown",
   "id": "7a127cf2",
   "metadata": {},
   "source": [
    "\n",
    "- 어떤 자연수 M의 분해합이 N인 경우, M을 N의 생성자라 한다. \n",
    "\n",
    "- 245(M)의 분해합은 256(=245+2+4+5)(N)이 된다. \n",
    "\n",
    "- 따라서 245(M)는 256(N)의 생성자가 된다. \n",
    "\n",
    "- 자연수 N이 주어졌을 때, N의 가장 작은 생성자를 구해내는 프로그램을 작성하시오.\n",
    "\n",
    "- 0 부터시작해서 증가하다가 자연수 N 보다 작은 값들중애서, 분해합으로, N을 만들어내는 M 생성자를 구해라\n"
   ]
  },
  {
   "cell_type": "markdown",
   "id": "1987944c",
   "metadata": {},
   "source": [
    "---"
   ]
  },
  {
   "cell_type": "markdown",
   "id": "56ed944f",
   "metadata": {},
   "source": [
    "- 숫자 분해 > 문자열 형 변환 후, len, idx 처리"
   ]
  },
  {
   "cell_type": "code",
   "execution_count": 1,
   "id": "76e1c5ef",
   "metadata": {},
   "outputs": [
    {
     "name": "stdout",
     "output_type": "stream",
     "text": [
      "216\n",
      "198\n"
     ]
    }
   ],
   "source": [
    "N = int(input())\n",
    "\n",
    "ans = 0\n",
    "\n",
    "for n in range(0, N+1):\n",
    "    \n",
    "    s = str(n)\n",
    "    \n",
    "    r = 0\n",
    "    \n",
    "    for i in range(len(s)):\n",
    "        r += int(s[i])\n",
    "    \n",
    "    if n + r == N:\n",
    "        ans = n\n",
    "        break\n",
    "\n",
    "print(ans)\n",
    "        \n",
    "    "
   ]
  },
  {
   "cell_type": "markdown",
   "id": "bb47df55",
   "metadata": {},
   "source": [
    "---"
   ]
  },
  {
   "cell_type": "markdown",
   "id": "7c954b7d",
   "metadata": {},
   "source": [
    "- 숫자 분해 > num % 10, num // 10"
   ]
  },
  {
   "cell_type": "code",
   "execution_count": 3,
   "id": "866d51db",
   "metadata": {},
   "outputs": [
    {
     "data": {
      "text/plain": [
       "(6, 54)"
      ]
     },
     "execution_count": 3,
     "metadata": {},
     "output_type": "execute_result"
    }
   ],
   "source": [
    "546 % 10, 546 // 10"
   ]
  },
  {
   "cell_type": "code",
   "execution_count": 4,
   "id": "9ebdbe6c",
   "metadata": {},
   "outputs": [
    {
     "name": "stdout",
     "output_type": "stream",
     "text": [
      "216\n",
      "198\n"
     ]
    }
   ],
   "source": [
    "N = int(input())\n",
    "\n",
    "ans = 0\n",
    "\n",
    "for n in range(0, N+1):\n",
    "    \n",
    "    tmp = n\n",
    "    \n",
    "    r = 0\n",
    "    \n",
    "    while n:\n",
    "        \n",
    "        r += n % 10\n",
    "        n = n // 10\n",
    "    \n",
    "    if r + tmp == N:\n",
    "        ans = tmp\n",
    "        break\n",
    "        \n",
    "print(ans)\n",
    "        \n",
    "        "
   ]
  }
 ],
 "metadata": {
  "kernelspec": {
   "display_name": "Python 3 (ipykernel)",
   "language": "python",
   "name": "python3"
  },
  "language_info": {
   "codemirror_mode": {
    "name": "ipython",
    "version": 3
   },
   "file_extension": ".py",
   "mimetype": "text/x-python",
   "name": "python",
   "nbconvert_exporter": "python",
   "pygments_lexer": "ipython3",
   "version": "3.8.16"
  },
  "toc": {
   "base_numbering": 1,
   "nav_menu": {},
   "number_sections": true,
   "sideBar": true,
   "skip_h1_title": false,
   "title_cell": "Table of Contents",
   "title_sidebar": "Contents",
   "toc_cell": false,
   "toc_position": {},
   "toc_section_display": true,
   "toc_window_display": false
  },
  "varInspector": {
   "cols": {
    "lenName": 16,
    "lenType": 16,
    "lenVar": 40
   },
   "kernels_config": {
    "python": {
     "delete_cmd_postfix": "",
     "delete_cmd_prefix": "del ",
     "library": "var_list.py",
     "varRefreshCmd": "print(var_dic_list())"
    },
    "r": {
     "delete_cmd_postfix": ") ",
     "delete_cmd_prefix": "rm(",
     "library": "var_list.r",
     "varRefreshCmd": "cat(var_dic_list()) "
    }
   },
   "types_to_exclude": [
    "module",
    "function",
    "builtin_function_or_method",
    "instance",
    "_Feature"
   ],
   "window_display": false
  }
 },
 "nbformat": 4,
 "nbformat_minor": 5
}
