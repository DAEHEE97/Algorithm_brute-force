{
 "cells": [
  {
   "cell_type": "markdown",
   "id": "2859022b",
   "metadata": {},
   "source": [
    "# 일곱 난쟁이"
   ]
  },
  {
   "cell_type": "markdown",
   "id": "207ba079",
   "metadata": {},
   "source": [
    "---"
   ]
  },
  {
   "cell_type": "markdown",
   "id": "b3ff14dd",
   "metadata": {},
   "source": [
    "\n",
    "## 문제\n",
    "왕비를 피해 일곱 난쟁이들과 함께 평화롭게 생활하고 있던 백설공주에게 위기가 찾아왔다. \n",
    "\n",
    "일과를 마치고 돌아온 난쟁이가 일곱 명이 아닌 아홉 명이었던 것이다.\n",
    "\n",
    "아홉 명의 난쟁이는 모두 자신이 \"백설 공주와 일곱 난쟁이\"의 주인공이라고 주장했다. \n",
    "\n",
    "뛰어난 수학적 직관력을 가지고 있던 백설공주는, 다행스럽게도 일곱 난쟁이의 키의 합이 100이 됨을 기억해 냈다.\n",
    "\n",
    "아홉 난쟁이의 키가 주어졌을 때, 백설공주를 도와 일곱 난쟁이를 찾는 프로그램을 작성하시오.\n",
    "\n",
    "## 입력\n",
    "\n",
    "아홉 개의 줄에 걸쳐 난쟁이들의 키가 주어진다. \n",
    "\n",
    "주어지는 키는 100을 넘지 않는 자연수이며, 아홉 난쟁이의 키는 모두 다르며, 가능한 정답이 여러 가지인 경우에는 아무거나 출력한다.\n",
    "\n",
    "## 출력\n",
    "\n",
    "일곱 난쟁이의 키를 오름차순으로 출력한다. 일곱 난쟁이를 찾을 수 없는 경우는 없다.\n"
   ]
  },
  {
   "cell_type": "markdown",
   "id": "fcee991e",
   "metadata": {},
   "source": [
    "---"
   ]
  },
  {
   "cell_type": "markdown",
   "id": "db22f7e9",
   "metadata": {},
   "source": [
    "## Memo\n",
    "\n",
    "- 9개 입력\n",
    "\n",
    "- 7개의 합 100, \n",
    "\n",
    "- 7개 오름차순 출력"
   ]
  },
  {
   "cell_type": "markdown",
   "id": "1d09d4b0",
   "metadata": {},
   "source": [
    "---"
   ]
  },
  {
   "cell_type": "code",
   "execution_count": 4,
   "id": "a3383087",
   "metadata": {},
   "outputs": [
    {
     "name": "stdout",
     "output_type": "stream",
     "text": [
      "20\n",
      "7\n",
      "23\n",
      "19\n",
      "10\n",
      "15\n",
      "25\n",
      "8\n",
      "13\n",
      "7 8 10 13 19 20 23\n"
     ]
    }
   ],
   "source": [
    "from itertools import combinations\n",
    "\n",
    "N = 9\n",
    "\n",
    "lst = [ int(input()) for _ in range(N) ] \n",
    "\n",
    "for tup in combinations(lst, 7):\n",
    "    \n",
    "    if sum(tup) == 100 :\n",
    "        ans = list(tup)\n",
    "        break\n",
    "\n",
    "ans.sort()\n",
    "\n",
    "for i in ans:\n",
    "    print(i)"
   ]
  },
  {
   "cell_type": "markdown",
   "id": "5f0d0ca2",
   "metadata": {},
   "source": [
    "---"
   ]
  },
  {
   "cell_type": "markdown",
   "id": "05b4f87c",
   "metadata": {},
   "source": [
    "- 7개의 합으로 100을 찾는 과정을\n",
    "\n",
    "- 전체에서 제외에서, 2개로 나머지 합 s를 구함"
   ]
  },
  {
   "cell_type": "code",
   "execution_count": null,
   "id": "3affdd6d",
   "metadata": {},
   "outputs": [],
   "source": [
    "def solve():\n",
    "    \n",
    "    N = 9\n",
    "    \n",
    "    s = sum(lst)-100              # 찾아야 할 숫자를 계산\n",
    "    \n",
    "    for i in range(N-1):\n",
    "        \n",
    "        for j in range(i+1, N):     # N개중에서 2개를 뽑는 모든 조합\n",
    "            \n",
    "            if lst[i] + lst[j] == s:\n",
    "                return lst[i], lst[j]\n",
    "\n"
   ]
  },
  {
   "cell_type": "code",
   "execution_count": null,
   "id": "7916e6e1",
   "metadata": {},
   "outputs": [],
   "source": [
    "lst = [ int(input()) for _ in range(9) ]\n",
    "\n",
    "n, m = solve()   # 7명에 포함되지 않는 2명 찾기\n",
    "\n",
    "# n, m 제외 출력\n",
    "\n",
    "for i in sorted(lst):\n",
    "    \n",
    "    if i!=n and i!=m:\n",
    "        print(i)"
   ]
  }
 ],
 "metadata": {
  "kernelspec": {
   "display_name": "Python 3 (ipykernel)",
   "language": "python",
   "name": "python3"
  },
  "language_info": {
   "codemirror_mode": {
    "name": "ipython",
    "version": 3
   },
   "file_extension": ".py",
   "mimetype": "text/x-python",
   "name": "python",
   "nbconvert_exporter": "python",
   "pygments_lexer": "ipython3",
   "version": "3.8.16"
  },
  "toc": {
   "base_numbering": 1,
   "nav_menu": {},
   "number_sections": true,
   "sideBar": true,
   "skip_h1_title": false,
   "title_cell": "Table of Contents",
   "title_sidebar": "Contents",
   "toc_cell": false,
   "toc_position": {},
   "toc_section_display": true,
   "toc_window_display": false
  },
  "varInspector": {
   "cols": {
    "lenName": 16,
    "lenType": 16,
    "lenVar": 40
   },
   "kernels_config": {
    "python": {
     "delete_cmd_postfix": "",
     "delete_cmd_prefix": "del ",
     "library": "var_list.py",
     "varRefreshCmd": "print(var_dic_list())"
    },
    "r": {
     "delete_cmd_postfix": ") ",
     "delete_cmd_prefix": "rm(",
     "library": "var_list.r",
     "varRefreshCmd": "cat(var_dic_list()) "
    }
   },
   "types_to_exclude": [
    "module",
    "function",
    "builtin_function_or_method",
    "instance",
    "_Feature"
   ],
   "window_display": false
  }
 },
 "nbformat": 4,
 "nbformat_minor": 5
}
