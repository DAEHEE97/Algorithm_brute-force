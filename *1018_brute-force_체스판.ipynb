{
 "cells": [
  {
   "cell_type": "markdown",
   "id": "f2717629",
   "metadata": {},
   "source": [
    "# [1018_brute-force 체스판 다시 칠하기](https://www.acmicpc.net/problem/1018)\n",
    "\n",
    "\n"
   ]
  },
  {
   "cell_type": "markdown",
   "id": "1ef12f2e",
   "metadata": {},
   "source": [
    "---"
   ]
  },
  {
   "cell_type": "markdown",
   "id": "06ef2055",
   "metadata": {},
   "source": [
    "지민이는 8×8 크기의 체스판으로 잘라낸 후에 몇 개의 정사각형을 다시 칠해야겠다고 생각했다. \n",
    "\n",
    "당연히 8*8 크기는 아무데서나 골라도 된다. \n",
    "\n",
    "지민이가 다시 칠해야 하는 정사각형의 최소 개수를 구하는 프로그램을 작성하시오.\n",
    "\n",
    "\n",
    "- 2차원 arr, 입력 arr 과 비교, cnt\n",
    "\n",
    "- si,sj 에 따른 이동 비교\n",
    "\n",
    "- cnt 후, 최소값 처리\n"
   ]
  },
  {
   "cell_type": "code",
   "execution_count": 7,
   "id": "5c4b9e96",
   "metadata": {},
   "outputs": [
    {
     "name": "stdout",
     "output_type": "stream",
     "text": [
      "10 13\n",
      "BBBBBBBBWBWBW\n",
      "BBBBBBBBBWBWB\n",
      "BBBBBBBBWBWBW\n",
      "BBBBBBBBBWBWB\n",
      "BBBBBBBBWBWBW\n",
      "BBBBBBBBBWBWB\n",
      "BBBBBBBBWBWBW\n",
      "BBBBBBBBBWBWB\n",
      "WWWWWWWWWWBWB\n",
      "WWWWWWWWWWBWB\n",
      "26\n"
     ]
    }
   ],
   "source": [
    "W = [\n",
    "'WBWBWBWB',\n",
    "'BWBWBWBW',\n",
    "'WBWBWBWB',\n",
    "'BWBWBWBW',\n",
    "'WBWBWBWB',\n",
    "'BWBWBWBW',\n",
    "'WBWBWBWB',\n",
    "'BWBWBWBW',\n",
    "]\n",
    "\n",
    "B = [\n",
    "'BWBWBWBW',\n",
    "'WBWBWBWB',\n",
    "'BWBWBWBW',\n",
    "'WBWBWBWB',\n",
    "'BWBWBWBW',\n",
    "'WBWBWBWB',\n",
    "'BWBWBWBW',\n",
    "'WBWBWBWB',\n",
    "]\n",
    "\n",
    "\n",
    "\n",
    "N, M = map(int, input().split())\n",
    "\n",
    "arr = [ input() for _ in range(N) ] \n",
    "\n",
    "\n",
    "\n",
    "w_lst = []\n",
    "\n",
    "b_lst = []\n",
    "\n",
    "\n",
    "for si in range(0, N-8 +1):\n",
    "    \n",
    "    \n",
    "    for sj in range(0, M-8 +1):\n",
    "        \n",
    "        w_cnt = 0\n",
    "        b_cnt = 0\n",
    "        \n",
    "        for di in range(0, 8):\n",
    "            \n",
    "            for dj in range(0, 8):\n",
    "                \n",
    "                # 주의 !) W,B 는 고정, arr 만 이동 \n",
    "                \n",
    "                ni = si+di\n",
    "                nj = si+dj\n",
    "                \n",
    "                if W[di][dj] != arr[ni][nj]:\n",
    "                    w_cnt += 1\n",
    "\n",
    "                if B[di][dj] != arr[ni][nj]:\n",
    "                    b_cnt += 1\n",
    "        \n",
    "        w_lst.append(w_cnt)\n",
    "        b_lst.append(b_cnt)\n",
    "        \n",
    "\n",
    "\n",
    "ans = min(min(w_lst),min(b_lst))\n",
    "\n",
    "\n",
    "print(ans)\n",
    "        \n",
    "                \n",
    "            \n",
    "            \n",
    "            \n",
    "\n",
    "            \n",
    "        \n",
    "    \n",
    "            "
   ]
  },
  {
   "cell_type": "code",
   "execution_count": 9,
   "id": "d4d472fc",
   "metadata": {},
   "outputs": [
    {
     "data": {
      "text/plain": [
       "[32, 32, 32, 32, 32, 32, 35, 35, 35, 35, 35, 35, 38, 38, 38, 38, 38, 38]"
      ]
     },
     "execution_count": 9,
     "metadata": {},
     "output_type": "execute_result"
    }
   ],
   "source": [
    "b_lst"
   ]
  },
  {
   "cell_type": "code",
   "execution_count": 10,
   "id": "3a1adcf7",
   "metadata": {},
   "outputs": [
    {
     "data": {
      "text/plain": [
       "[32, 32, 32, 32, 32, 32, 29, 29, 29, 29, 29, 29, 26, 26, 26, 26, 26, 26]"
      ]
     },
     "execution_count": 10,
     "metadata": {},
     "output_type": "execute_result"
    }
   ],
   "source": [
    "w_lst"
   ]
  },
  {
   "cell_type": "code",
   "execution_count": null,
   "id": "fcf5f9f4",
   "metadata": {},
   "outputs": [],
   "source": [
    "WBWBWBWB\n",
    "BWBWBWBW\n",
    "WBWBWBWB\n",
    "BWBBBWBW\n",
    "WBWBWBWB\n",
    "BWBWBWBW\n",
    "WBWBWBWB\n",
    "BWBWBWBW"
   ]
  },
  {
   "cell_type": "code",
   "execution_count": 5,
   "id": "f32e80f0",
   "metadata": {},
   "outputs": [
    {
     "data": {
      "text/plain": [
       "[63]"
      ]
     },
     "execution_count": 5,
     "metadata": {},
     "output_type": "execute_result"
    }
   ],
   "source": [
    "b_lst"
   ]
  },
  {
   "cell_type": "code",
   "execution_count": 6,
   "id": "70a5ee8c",
   "metadata": {},
   "outputs": [
    {
     "data": {
      "text/plain": [
       "[1]"
      ]
     },
     "execution_count": 6,
     "metadata": {},
     "output_type": "execute_result"
    }
   ],
   "source": [
    "w_lst"
   ]
  },
  {
   "cell_type": "code",
   "execution_count": null,
   "id": "3324f13c",
   "metadata": {},
   "outputs": [],
   "source": [
    "BBBBBBBBWBWBW\n",
    "BBBBBBBBBWBWB\n",
    "BBBBBBBBWBWBW\n",
    "BBBBBBBBBWBWB\n",
    "BBBBBBBBWBWBW\n",
    "BBBBBBBBBWBWB\n",
    "BBBBBBBBWBWBW\n",
    "BBBBBBBBBWBWB\n",
    "WWWWWWWWWWBWB\n",
    "WWWWWWWWWWBWB"
   ]
  },
  {
   "cell_type": "code",
   "execution_count": 31,
   "id": "81307ec8",
   "metadata": {},
   "outputs": [],
   "source": [
    "# 체스판은 고정\n",
    "# arr은 시작 si,sj에따 른 범위 변경 \n",
    "\n",
    "def solve(si,sj):\n",
    "    \n",
    "    cnt_W = 0\n",
    "    cnt_B = 0\n",
    "    \n",
    "    for di in range(0, 8):\n",
    "        \n",
    "        for dj in range(0, 8):\n",
    "            \n",
    "            ni = si+di\n",
    "            nj = sj+dj\n",
    "            \n",
    "            if arr[ni][nj] != W[di][dj] :\n",
    "                cnt_W += 1\n",
    "                \n",
    "            elif arr[ni][nj] != B[di][dj] :\n",
    "                cnt_B += 1\n",
    "    \n",
    "    return min(cnt_W, cnt_B)\n",
    "\n",
    "                "
   ]
  },
  {
   "cell_type": "code",
   "execution_count": 28,
   "id": "538b5401",
   "metadata": {},
   "outputs": [
    {
     "name": "stdout",
     "output_type": "stream",
     "text": [
      "10 13\n",
      "BBBBBBBBWBWBW\n",
      "BBBBBBBBBWBWB\n",
      "BBBBBBBBWBWBW\n",
      "BBBBBBBBBWBWB\n",
      "BBBBBBBBWBWBW\n",
      "BBBBBBBBBWBWB\n",
      "BBBBBBBBWBWBW\n",
      "BBBBBBBBBWBWB\n",
      "WWWWWWWWWWBWB\n",
      "WWWWWWWWWWBWB\n"
     ]
    }
   ],
   "source": [
    "W = [\n",
    "'WBWBWBWB',\n",
    "'BWBWBWBW',\n",
    "'WBWBWBWB',\n",
    "'BWBWBWBW',\n",
    "'WBWBWBWB',\n",
    "'BWBWBWBW',\n",
    "'WBWBWBWB',\n",
    "'BWBWBWBW',\n",
    "]\n",
    "\n",
    "B = [\n",
    "'BWBWBWBW',\n",
    "'WBWBWBWB',\n",
    "'BWBWBWBW',\n",
    "'WBWBWBWB',\n",
    "'BWBWBWBW',\n",
    "'WBWBWBWB',\n",
    "'BWBWBWBW',\n",
    "'WBWBWBWB',\n",
    "]\n",
    "\n",
    "N, M = map(int, input().split())\n",
    "\n",
    "arr = [ input() for _ in range(N) ] \n",
    "\n",
    "ans = 1000000\n",
    "\n",
    "for si in range(0, N-8 +1):\n",
    "    \n",
    "    for sj in range(0, M-8 +1):\n",
    "        \n",
    "        \n",
    "        \n",
    "        \n",
    "        \n",
    "        ans = min( ans , solve(si,sj) )\n",
    "        \n",
    "        \n",
    "        \n",
    "        \n",
    "        \n",
    "print(ans)       "
   ]
  },
  {
   "cell_type": "markdown",
   "id": "1ed59a06",
   "metadata": {},
   "source": [
    "---"
   ]
  },
  {
   "cell_type": "code",
   "execution_count": null,
   "id": "33c16b66",
   "metadata": {},
   "outputs": [],
   "source": [
    "W = [\n",
    "'WBWBWBWB',\n",
    "'BWBWBWBW',\n",
    "'WBWBWBWB',\n",
    "'BWBWBWBW',\n",
    "'WBWBWBWB',\n",
    "'BWBWBWBW',\n",
    "'WBWBWBWB',\n",
    "'BWBWBWBW',\n",
    "]\n",
    "\n",
    "B = [\n",
    "'BWBWBWBW',\n",
    "'WBWBWBWB',\n",
    "'BWBWBWBW',\n",
    "'WBWBWBWB',\n",
    "'BWBWBWBW',\n",
    "'WBWBWBWB',\n",
    "'BWBWBWBW',\n",
    "'WBWBWBWB',\n",
    "]\n",
    "\n",
    "N, M = map(int, input().split())\n",
    "\n",
    "arr = [ input() for _ in range(N) ] \n",
    "\n",
    "ans = 1000000\n",
    "\n",
    "for si in range(0, N-8 +1):\n",
    "    \n",
    "    for sj in range(0, M-8 +1):\n",
    "        \n",
    "        \n",
    "        cnt_W = 0\n",
    "        cnt_B = 0\n",
    "\n",
    "        for di in range(0, 8):\n",
    "\n",
    "            for dj in range(0, 8):\n",
    "\n",
    "                ni = si+di\n",
    "                nj = sj+dj\n",
    "\n",
    "                if arr[ni][nj] != W[di][dj] :\n",
    "                    cnt_W += 1\n",
    "\n",
    "                elif arr[ni][nj] != B[di][dj] :\n",
    "                    cnt_B += 1\n",
    "    \n",
    "        tmp = min(cnt_W, cnt_B)\n",
    "\n",
    "        ans = min( ans , solve(si,sj) )\n",
    "        \n",
    "        \n",
    "        \n",
    "print(ans)       "
   ]
  }
 ],
 "metadata": {
  "kernelspec": {
   "display_name": "Python 3 (ipykernel)",
   "language": "python",
   "name": "python3"
  },
  "language_info": {
   "codemirror_mode": {
    "name": "ipython",
    "version": 3
   },
   "file_extension": ".py",
   "mimetype": "text/x-python",
   "name": "python",
   "nbconvert_exporter": "python",
   "pygments_lexer": "ipython3",
   "version": "3.8.16"
  },
  "toc": {
   "base_numbering": 1,
   "nav_menu": {},
   "number_sections": true,
   "sideBar": true,
   "skip_h1_title": false,
   "title_cell": "Table of Contents",
   "title_sidebar": "Contents",
   "toc_cell": false,
   "toc_position": {},
   "toc_section_display": true,
   "toc_window_display": false
  },
  "varInspector": {
   "cols": {
    "lenName": 16,
    "lenType": 16,
    "lenVar": 40
   },
   "kernels_config": {
    "python": {
     "delete_cmd_postfix": "",
     "delete_cmd_prefix": "del ",
     "library": "var_list.py",
     "varRefreshCmd": "print(var_dic_list())"
    },
    "r": {
     "delete_cmd_postfix": ") ",
     "delete_cmd_prefix": "rm(",
     "library": "var_list.r",
     "varRefreshCmd": "cat(var_dic_list()) "
    }
   },
   "types_to_exclude": [
    "module",
    "function",
    "builtin_function_or_method",
    "instance",
    "_Feature"
   ],
   "window_display": false
  }
 },
 "nbformat": 4,
 "nbformat_minor": 5
}
