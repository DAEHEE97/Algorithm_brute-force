{
 "cells": [
  {
   "cell_type": "code",
   "execution_count": 21,
   "id": "24f9360a",
   "metadata": {},
   "outputs": [],
   "source": [
    "def is_prime(n):\n",
    "    \n",
    "    \n",
    "    for i in range(2, n):\n",
    "        \n",
    "        if n // i != 0:\n",
    "            return n\n",
    "        \n",
    "    \n",
    "    "
   ]
  },
  {
   "cell_type": "code",
   "execution_count": 1,
   "id": "bfda25d0",
   "metadata": {},
   "outputs": [],
   "source": [
    "lst = ['0', '1', '1']"
   ]
  },
  {
   "cell_type": "code",
   "execution_count": 2,
   "id": "4be0a728",
   "metadata": {},
   "outputs": [
    {
     "data": {
      "text/plain": [
       "['0', '1', '1']"
      ]
     },
     "execution_count": 2,
     "metadata": {},
     "output_type": "execute_result"
    }
   ],
   "source": [
    "lst"
   ]
  },
  {
   "cell_type": "code",
   "execution_count": 14,
   "id": "44c3a63f",
   "metadata": {},
   "outputs": [],
   "source": [
    "from itertools import permutations\n",
    "\n",
    "sset = set()\n",
    "\n",
    "for n in range(1, len(lst)+1):\n",
    "    \n",
    "    for tup in permutations(lst, n):\n",
    "        \n",
    "        s = ''\n",
    "        for i in range(n):\n",
    "            \n",
    "            s += tup[i]\n",
    "        \n",
    "        sset.add(int(s))\n"
   ]
  },
  {
   "cell_type": "code",
   "execution_count": 15,
   "id": "3a776af6",
   "metadata": {},
   "outputs": [
    {
     "data": {
      "text/plain": [
       "{0, 1, 10, 11, 101, 110}"
      ]
     },
     "execution_count": 15,
     "metadata": {},
     "output_type": "execute_result"
    }
   ],
   "source": [
    "sset"
   ]
  },
  {
   "cell_type": "code",
   "execution_count": 6,
   "id": "b974b26b",
   "metadata": {},
   "outputs": [
    {
     "data": {
      "text/plain": [
       "('0', '1')"
      ]
     },
     "execution_count": 6,
     "metadata": {},
     "output_type": "execute_result"
    }
   ],
   "source": [
    "('0', '1')"
   ]
  },
  {
   "cell_type": "code",
   "execution_count": null,
   "id": "0104e152",
   "metadata": {},
   "outputs": [],
   "source": []
  }
 ],
 "metadata": {
  "kernelspec": {
   "display_name": "Python 3 (ipykernel)",
   "language": "python",
   "name": "python3"
  },
  "language_info": {
   "codemirror_mode": {
    "name": "ipython",
    "version": 3
   },
   "file_extension": ".py",
   "mimetype": "text/x-python",
   "name": "python",
   "nbconvert_exporter": "python",
   "pygments_lexer": "ipython3",
   "version": "3.8.16"
  },
  "toc": {
   "base_numbering": 1,
   "nav_menu": {},
   "number_sections": true,
   "sideBar": true,
   "skip_h1_title": false,
   "title_cell": "Table of Contents",
   "title_sidebar": "Contents",
   "toc_cell": false,
   "toc_position": {},
   "toc_section_display": true,
   "toc_window_display": false
  },
  "varInspector": {
   "cols": {
    "lenName": 16,
    "lenType": 16,
    "lenVar": 40
   },
   "kernels_config": {
    "python": {
     "delete_cmd_postfix": "",
     "delete_cmd_prefix": "del ",
     "library": "var_list.py",
     "varRefreshCmd": "print(var_dic_list())"
    },
    "r": {
     "delete_cmd_postfix": ") ",
     "delete_cmd_prefix": "rm(",
     "library": "var_list.r",
     "varRefreshCmd": "cat(var_dic_list()) "
    }
   },
   "types_to_exclude": [
    "module",
    "function",
    "builtin_function_or_method",
    "instance",
    "_Feature"
   ],
   "window_display": false
  }
 },
 "nbformat": 4,
 "nbformat_minor": 5
}
