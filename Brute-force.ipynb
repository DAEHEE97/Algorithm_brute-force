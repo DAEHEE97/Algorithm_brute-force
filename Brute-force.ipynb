{
 "cells": [
  {
   "cell_type": "markdown",
   "id": "38f7d608",
   "metadata": {},
   "source": [
    "# Brute-force\n",
    "\n",
    "- 완전 검색\n",
    "\n",
    "- 문제의 해(Solution) 를 얻기 위해 가능한 모든 경우들을 나열해 보고 확인 하는 기법, 컴퓨터의 힘(force, 계산능력)dmfh cjfl\n",
    "\n",
    "- 문제를 해결하기 위한 간단하고 쉬운 접근법, 상대적으로 빠른 시간에 문제 해결(알고리즘 설계) 가능\n",
    "\n",
    "- 문제에 포한된 자료(요소, instance)의 크기가 작을 경우 유용\n"
   ]
  },
  {
   "cell_type": "markdown",
   "id": "65e4faa3",
   "metadata": {},
   "source": [
    "---"
   ]
  },
  {
   "cell_type": "markdown",
   "id": "7a45fe73",
   "metadata": {},
   "source": [
    "## Sequential Search\n",
    "\n",
    "-  순차 검색 "
   ]
  },
  {
   "cell_type": "markdown",
   "id": "b990e1ee",
   "metadata": {},
   "source": [
    "---"
   ]
  },
  {
   "cell_type": "markdown",
   "id": "e01599ee",
   "metadata": {},
   "source": [
    "## 완전 검색을 통한 Baby-Gin\n",
    "\n",
    "1. 2,3,5,7,7,7 을 받을 경우, 모든 경우의 수 순열 나열\n",
    "\n",
    "2. 앞의 세자리와 뒤의 세자리를 잘라서, Run, Triplete 여부 테스트 \n",
    "\n",
    "\n",
    "667767, (666)(777), Baby-Gin\n",
    "\n",
    "054060, (456)(000), Baby-Gin\n",
    "\n",
    "101123, (023)(111), Baby-Gin X\n"
   ]
  },
  {
   "cell_type": "markdown",
   "id": "3ac2eea6",
   "metadata": {},
   "source": [
    "---"
   ]
  }
 ],
 "metadata": {
  "kernelspec": {
   "display_name": "Python 3 (ipykernel)",
   "language": "python",
   "name": "python3"
  },
  "language_info": {
   "codemirror_mode": {
    "name": "ipython",
    "version": 3
   },
   "file_extension": ".py",
   "mimetype": "text/x-python",
   "name": "python",
   "nbconvert_exporter": "python",
   "pygments_lexer": "ipython3",
   "version": "3.8.16"
  },
  "toc": {
   "base_numbering": 1,
   "nav_menu": {},
   "number_sections": true,
   "sideBar": true,
   "skip_h1_title": false,
   "title_cell": "Table of Contents",
   "title_sidebar": "Contents",
   "toc_cell": false,
   "toc_position": {},
   "toc_section_display": true,
   "toc_window_display": false
  },
  "varInspector": {
   "cols": {
    "lenName": 16,
    "lenType": 16,
    "lenVar": 40
   },
   "kernels_config": {
    "python": {
     "delete_cmd_postfix": "",
     "delete_cmd_prefix": "del ",
     "library": "var_list.py",
     "varRefreshCmd": "print(var_dic_list())"
    },
    "r": {
     "delete_cmd_postfix": ") ",
     "delete_cmd_prefix": "rm(",
     "library": "var_list.r",
     "varRefreshCmd": "cat(var_dic_list()) "
    }
   },
   "types_to_exclude": [
    "module",
    "function",
    "builtin_function_or_method",
    "instance",
    "_Feature"
   ],
   "window_display": false
  }
 },
 "nbformat": 4,
 "nbformat_minor": 5
}
