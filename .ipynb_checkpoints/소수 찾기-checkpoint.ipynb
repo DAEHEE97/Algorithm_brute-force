{
 "cells": [
  {
   "cell_type": "markdown",
   "id": "a16ad0e2",
   "metadata": {},
   "source": [
    "# [소수 찾기](https://school.programmers.co.kr/learn/courses/30/lessons/42839)"
   ]
  },
  {
   "cell_type": "markdown",
   "id": "b7cbc722",
   "metadata": {},
   "source": [
    "---"
   ]
  },
  {
   "cell_type": "code",
   "execution_count": null,
   "id": "9fcdecee",
   "metadata": {},
   "outputs": [],
   "source": [
    "from itertools import permutations\n",
    "\n",
    "def is_prime(n):\n",
    "    \n",
    "    \n",
    "    if n == 0 or n==1 :\n",
    "        return False\n",
    "    \n",
    "    if n == 2:\n",
    "        return True\n",
    "    \n",
    "    flag = True\n",
    "    for i in range(2, n):\n",
    "    \n",
    "        if n % i == 0:\n",
    "            return False\n",
    "    \n",
    "    if flag:\n",
    "        return True\n",
    "                \n",
    "\n",
    "def solution(numbers):\n",
    "            \n",
    "    lst = list(numbers)\n",
    "    sset = set()\n",
    "\n",
    "    for n in range(1, len(lst)+1):\n",
    "\n",
    "        for tup in permutations(lst, n):\n",
    "            \n",
    "            s = ''\n",
    "            for i in range(n):\n",
    "                s += tup[i]\n",
    "\n",
    "            sset.add(int(s))\n",
    "            \n",
    "    ans = []\n",
    "\n",
    "    for n in sset:\n",
    "\n",
    "        if is_prime(n):\n",
    "            ans.append(n)\n",
    "\n",
    "        \n",
    "    return len(ans)"
   ]
  },
  {
   "cell_type": "markdown",
   "id": "90433aea",
   "metadata": {},
   "source": [
    "---"
   ]
  },
  {
   "cell_type": "code",
   "execution_count": null,
   "id": "bfda25d0",
   "metadata": {},
   "outputs": [],
   "source": [
    "lst = ['0', '1', '1']"
   ]
  },
  {
   "cell_type": "code",
   "execution_count": null,
   "id": "4be0a728",
   "metadata": {},
   "outputs": [],
   "source": [
    "lst"
   ]
  },
  {
   "cell_type": "code",
   "execution_count": null,
   "id": "44c3a63f",
   "metadata": {},
   "outputs": [],
   "source": [
    "from itertools import permutations\n",
    "\n",
    "sset = set()\n",
    "\n",
    "for n in range(1, len(lst)+1):\n",
    "    \n",
    "    for tup in permutations(lst, n):\n",
    "        \n",
    "        s = ''\n",
    "        for i in range(n):\n",
    "            s += tup[i]\n",
    "        \n",
    "        sset.add(int(s))\n"
   ]
  },
  {
   "cell_type": "code",
   "execution_count": null,
   "id": "3a776af6",
   "metadata": {},
   "outputs": [],
   "source": [
    "sset"
   ]
  }
 ],
 "metadata": {
  "kernelspec": {
   "display_name": "Python 3 (ipykernel)",
   "language": "python",
   "name": "python3"
  },
  "language_info": {
   "codemirror_mode": {
    "name": "ipython",
    "version": 3
   },
   "file_extension": ".py",
   "mimetype": "text/x-python",
   "name": "python",
   "nbconvert_exporter": "python",
   "pygments_lexer": "ipython3",
   "version": "3.8.16"
  },
  "toc": {
   "base_numbering": 1,
   "nav_menu": {},
   "number_sections": true,
   "sideBar": true,
   "skip_h1_title": false,
   "title_cell": "Table of Contents",
   "title_sidebar": "Contents",
   "toc_cell": false,
   "toc_position": {},
   "toc_section_display": true,
   "toc_window_display": false
  },
  "varInspector": {
   "cols": {
    "lenName": 16,
    "lenType": 16,
    "lenVar": 40
   },
   "kernels_config": {
    "python": {
     "delete_cmd_postfix": "",
     "delete_cmd_prefix": "del ",
     "library": "var_list.py",
     "varRefreshCmd": "print(var_dic_list())"
    },
    "r": {
     "delete_cmd_postfix": ") ",
     "delete_cmd_prefix": "rm(",
     "library": "var_list.r",
     "varRefreshCmd": "cat(var_dic_list()) "
    }
   },
   "types_to_exclude": [
    "module",
    "function",
    "builtin_function_or_method",
    "instance",
    "_Feature"
   ],
   "window_display": false
  }
 },
 "nbformat": 4,
 "nbformat_minor": 5
}
