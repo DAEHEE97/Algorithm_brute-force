{
 "cells": [
  {
   "cell_type": "markdown",
   "id": "a16ad0e2",
   "metadata": {},
   "source": [
    "# [소수 찾기](https://school.programmers.co.kr/learn/courses/30/lessons/42839)"
   ]
  },
  {
   "cell_type": "markdown",
   "id": "b7cbc722",
   "metadata": {},
   "source": [
    "---"
   ]
  },
  {
   "cell_type": "code",
   "execution_count": 16,
   "id": "42c018f3",
   "metadata": {},
   "outputs": [],
   "source": [
    "# is_prime 카운트 2개로 구현\n",
    "\n",
    "def is_prime(n):\n",
    "\n",
    "    \n",
    "    if n == 1 or n == 0:\n",
    "        \n",
    "        return False\n",
    "    \n",
    "    \n",
    "    cnt = 0\n",
    "    \n",
    "    for i in range(1, n+1):\n",
    "        \n",
    "        if n % i == 0:\n",
    "            cnt += 1\n",
    "        \n",
    "        \n",
    "        if cnt > 2:\n",
    "            return False\n",
    "    \n",
    "    if cnt == 2:\n",
    "        return True\n",
    "    \n"
   ]
  },
  {
   "cell_type": "code",
   "execution_count": 17,
   "id": "67bf13b6",
   "metadata": {},
   "outputs": [
    {
     "data": {
      "text/plain": [
       "False"
      ]
     },
     "execution_count": 17,
     "metadata": {},
     "output_type": "execute_result"
    }
   ],
   "source": [
    "is_prime(1)"
   ]
  },
  {
   "cell_type": "code",
   "execution_count": null,
   "id": "9fcdecee",
   "metadata": {},
   "outputs": [],
   "source": [
    "# 자기 자신전까지 반복, 나누어 떨어지면 안됨\n",
    "\n",
    "from itertools import permutations\n",
    "\n",
    "def is_prime(n):\n",
    "    \n",
    "    \n",
    "    if n == 0 or n==1 :\n",
    "        return False\n",
    "    \n",
    "    if n == 2:\n",
    "        return True\n",
    "    \n",
    "    flag = True\n",
    "    for i in range(2, n):\n",
    "    \n",
    "        if n % i == 0:\n",
    "            return False\n",
    "    \n",
    "    if flag:\n",
    "        return True\n",
    "                \n",
    "\n",
    "def solution(numbers):\n",
    "            \n",
    "    lst = list(numbers)\n",
    "    sset = set()\n",
    "\n",
    "    for n in range(1, len(lst)+1):\n",
    "\n",
    "        for tup in permutations(lst, n):\n",
    "            \n",
    "            s = ''\n",
    "            for i in range(n):\n",
    "                s += tup[i]\n",
    "\n",
    "            sset.add(int(s))\n",
    "            \n",
    "    ans = []\n",
    "\n",
    "    for n in sset:\n",
    "\n",
    "        if is_prime(n):\n",
    "            ans.append(n)\n",
    "\n",
    "        \n",
    "    return len(ans)"
   ]
  },
  {
   "cell_type": "markdown",
   "id": "90433aea",
   "metadata": {},
   "source": [
    "---"
   ]
  },
  {
   "cell_type": "markdown",
   "id": "a1d620a1",
   "metadata": {},
   "source": [
    "---"
   ]
  },
  {
   "cell_type": "code",
   "execution_count": 5,
   "id": "bfda25d0",
   "metadata": {},
   "outputs": [],
   "source": [
    "numbers = \"123\"\n",
    "\n",
    "lst = list(numbers)\n"
   ]
  },
  {
   "cell_type": "code",
   "execution_count": 6,
   "id": "4be0a728",
   "metadata": {},
   "outputs": [
    {
     "data": {
      "text/plain": [
       "['1', '2', '3']"
      ]
     },
     "execution_count": 6,
     "metadata": {},
     "output_type": "execute_result"
    }
   ],
   "source": [
    "lst"
   ]
  },
  {
   "cell_type": "markdown",
   "id": "dd515e0e",
   "metadata": {},
   "source": [
    "- 가능한 모든 조합(permutations)을 이용하여, 문자들을 숫자로 조합, 중복 허용 x > set 처리\n",
    "- 이때 몇개를 선택할지 또한, 1개, 2개, N개 선택 가능, 모든 조합이므로, 112,211,121 다가능\n",
    "- string 더하기 처리"
   ]
  },
  {
   "cell_type": "code",
   "execution_count": 7,
   "id": "f70bb94a",
   "metadata": {},
   "outputs": [],
   "source": [
    "from itertools import permutations\n",
    "\n",
    "sset = set()\n",
    "\n",
    "for n in range(1, len(lst)+1):\n",
    "    \n",
    "    # n개를 뽑아서, 하나의 문자(숫자) 로 만들어야함\n",
    "    for tup in permutations(lst, n):\n",
    "        \n",
    "        string = ''\n",
    "        \n",
    "        for i in range(len(tup)):\n",
    "            string += tup[i]\n",
    "        \n",
    "        # 형 변환후 삽입\n",
    "        sset.add(int(string))\n",
    "\n",
    "        \n",
    "    "
   ]
  },
  {
   "cell_type": "code",
   "execution_count": 8,
   "id": "b20dbef3",
   "metadata": {},
   "outputs": [
    {
     "data": {
      "text/plain": [
       "{1, 2, 3, 12, 13, 21, 23, 31, 32, 123, 132, 213, 231, 312, 321}"
      ]
     },
     "execution_count": 8,
     "metadata": {},
     "output_type": "execute_result"
    }
   ],
   "source": [
    "sset"
   ]
  }
 ],
 "metadata": {
  "kernelspec": {
   "display_name": "Python 3 (ipykernel)",
   "language": "python",
   "name": "python3"
  },
  "language_info": {
   "codemirror_mode": {
    "name": "ipython",
    "version": 3
   },
   "file_extension": ".py",
   "mimetype": "text/x-python",
   "name": "python",
   "nbconvert_exporter": "python",
   "pygments_lexer": "ipython3",
   "version": "3.8.16"
  },
  "toc": {
   "base_numbering": 1,
   "nav_menu": {},
   "number_sections": true,
   "sideBar": true,
   "skip_h1_title": false,
   "title_cell": "Table of Contents",
   "title_sidebar": "Contents",
   "toc_cell": false,
   "toc_position": {},
   "toc_section_display": true,
   "toc_window_display": false
  },
  "varInspector": {
   "cols": {
    "lenName": 16,
    "lenType": 16,
    "lenVar": 40
   },
   "kernels_config": {
    "python": {
     "delete_cmd_postfix": "",
     "delete_cmd_prefix": "del ",
     "library": "var_list.py",
     "varRefreshCmd": "print(var_dic_list())"
    },
    "r": {
     "delete_cmd_postfix": ") ",
     "delete_cmd_prefix": "rm(",
     "library": "var_list.r",
     "varRefreshCmd": "cat(var_dic_list()) "
    }
   },
   "types_to_exclude": [
    "module",
    "function",
    "builtin_function_or_method",
    "instance",
    "_Feature"
   ],
   "window_display": false
  }
 },
 "nbformat": 4,
 "nbformat_minor": 5
}
