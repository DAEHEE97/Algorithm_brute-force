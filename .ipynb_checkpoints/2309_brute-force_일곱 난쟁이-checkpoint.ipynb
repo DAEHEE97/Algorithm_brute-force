{
 "cells": [
  {
   "cell_type": "markdown",
   "id": "2859022b",
   "metadata": {},
   "source": [
    "# 일곱 난쟁이"
   ]
  },
  {
   "cell_type": "markdown",
   "id": "207ba079",
   "metadata": {},
   "source": [
    "---"
   ]
  },
  {
   "cell_type": "markdown",
   "id": "b3ff14dd",
   "metadata": {},
   "source": [
    "\n",
    "- 9명 중 7명의 숫자의 합 == 100, \n",
    "\n",
    "- 전체 합 중에서, 100 뺀후 나머지 R, 2명의 합이 R, R을 제외하면 됨 \n",
    "없다."
   ]
  },
  {
   "cell_type": "markdown",
   "id": "fcee991e",
   "metadata": {},
   "source": [
    "---"
   ]
  },
  {
   "cell_type": "markdown",
   "id": "db22f7e9",
   "metadata": {},
   "source": [
    "## Memo\n",
    "\n",
    "- 9개 입력\n",
    "\n",
    "- 7개의 합 100, \n",
    "\n",
    "- 7개 오름차순 출력"
   ]
  },
  {
   "cell_type": "markdown",
   "id": "1d09d4b0",
   "metadata": {},
   "source": [
    "---"
   ]
  },
  {
   "cell_type": "code",
   "execution_count": 4,
   "id": "a3383087",
   "metadata": {},
   "outputs": [
    {
     "name": "stdout",
     "output_type": "stream",
     "text": [
      "20\n",
      "7\n",
      "23\n",
      "19\n",
      "10\n",
      "15\n",
      "25\n",
      "8\n",
      "13\n",
      "7 8 10 13 19 20 23\n"
     ]
    }
   ],
   "source": [
    "from itertools import combinations\n",
    "\n",
    "N = 9\n",
    "\n",
    "lst = [ int(input()) for _ in range(N) ] \n",
    "\n",
    "for tup in combinations(lst, 7):\n",
    "    \n",
    "    if sum(tup) == 100 :\n",
    "        ans = list(tup)\n",
    "        break\n",
    "\n",
    "ans.sort()\n",
    "\n",
    "for i in ans:\n",
    "    print(i)"
   ]
  },
  {
   "cell_type": "markdown",
   "id": "5f0d0ca2",
   "metadata": {},
   "source": [
    "---"
   ]
  },
  {
   "cell_type": "markdown",
   "id": "05b4f87c",
   "metadata": {},
   "source": [
    "- 7개의 합으로 100을 찾는 과정을\n",
    "\n",
    "- 전체에서 제외에서, 2개로 나머지 합 s를 구함"
   ]
  },
  {
   "cell_type": "markdown",
   "id": "7e42624e",
   "metadata": {},
   "source": [
    "---"
   ]
  },
  {
   "cell_type": "code",
   "execution_count": 7,
   "id": "3affdd6d",
   "metadata": {},
   "outputs": [],
   "source": [
    " # 7명에 포함되지 않는 2명 제외 처리\n",
    "    \n",
    "def solve():\n",
    "    \n",
    "    N = 9\n",
    "    \n",
    "    r = sum(lst) - 100              # 찾아야 할 숫자를 계산\n",
    "    \n",
    "    for i in range(0, N-1):\n",
    "        \n",
    "        for j in range(i+1, N):     # N개중에서 2개를 뽑는 모든 조합\n",
    "            \n",
    "            if lst[i] + lst[j] == r:\n",
    "                \n",
    "                return lst[i], lst[j]\n",
    "\n"
   ]
  },
  {
   "cell_type": "code",
   "execution_count": 8,
   "id": "7916e6e1",
   "metadata": {},
   "outputs": [
    {
     "name": "stdout",
     "output_type": "stream",
     "text": [
      "20\n",
      "7\n",
      "23\n",
      "19\n",
      "10\n",
      "15\n",
      "25\n",
      "8\n",
      "13\n",
      "7\n",
      "8\n",
      "10\n",
      "13\n",
      "19\n",
      "20\n",
      "23\n"
     ]
    }
   ],
   "source": [
    "lst = [ int(input()) for _ in range(9) ]\n",
    "\n",
    "n, m = solve()  \n",
    "\n",
    "# n, m 제외 출력\n",
    "for i in sorted(lst):\n",
    "    \n",
    "    if i != n and i != m:\n",
    "        \n",
    "        print(i)"
   ]
  },
  {
   "cell_type": "markdown",
   "id": "a2708d48",
   "metadata": {},
   "source": [
    "---"
   ]
  },
  {
   "cell_type": "code",
   "execution_count": 4,
   "id": "9221a890",
   "metadata": {},
   "outputs": [
    {
     "name": "stdout",
     "output_type": "stream",
     "text": [
      "0 1\n",
      "0 2\n",
      "0 3\n",
      "0 4\n",
      "1 2\n",
      "1 3\n",
      "1 4\n",
      "2 3\n",
      "2 4\n",
      "3 4\n"
     ]
    }
   ],
   "source": [
    "# N개중에서 2개를 뽑는 모든 조합\n",
    "    \n",
    "N = 5\n",
    "\n",
    "for i in range(0, N-1):\n",
    "    \n",
    "    for j in range(i+1, N):    \n",
    "           \n",
    "            print(i,j)"
   ]
  },
  {
   "cell_type": "markdown",
   "id": "e73cf811",
   "metadata": {},
   "source": [
    "---"
   ]
  },
  {
   "cell_type": "code",
   "execution_count": 11,
   "id": "7621dc54",
   "metadata": {},
   "outputs": [
    {
     "name": "stdout",
     "output_type": "stream",
     "text": [
      "(0, 1)\n",
      "(0, 2)\n",
      "(0, 3)\n",
      "(0, 4)\n",
      "(1, 2)\n",
      "(1, 3)\n",
      "(1, 4)\n",
      "(2, 3)\n",
      "(2, 4)\n",
      "(3, 4)\n"
     ]
    }
   ],
   "source": [
    "from itertools import combinations\n",
    "\n",
    "N = 5\n",
    "\n",
    "for tup in combinations(range(0,N), 2):\n",
    "    print(tup)"
   ]
  }
 ],
 "metadata": {
  "kernelspec": {
   "display_name": "Python 3 (ipykernel)",
   "language": "python",
   "name": "python3"
  },
  "language_info": {
   "codemirror_mode": {
    "name": "ipython",
    "version": 3
   },
   "file_extension": ".py",
   "mimetype": "text/x-python",
   "name": "python",
   "nbconvert_exporter": "python",
   "pygments_lexer": "ipython3",
   "version": "3.8.16"
  },
  "toc": {
   "base_numbering": 1,
   "nav_menu": {},
   "number_sections": true,
   "sideBar": true,
   "skip_h1_title": false,
   "title_cell": "Table of Contents",
   "title_sidebar": "Contents",
   "toc_cell": false,
   "toc_position": {},
   "toc_section_display": true,
   "toc_window_display": false
  },
  "varInspector": {
   "cols": {
    "lenName": 16,
    "lenType": 16,
    "lenVar": 40
   },
   "kernels_config": {
    "python": {
     "delete_cmd_postfix": "",
     "delete_cmd_prefix": "del ",
     "library": "var_list.py",
     "varRefreshCmd": "print(var_dic_list())"
    },
    "r": {
     "delete_cmd_postfix": ") ",
     "delete_cmd_prefix": "rm(",
     "library": "var_list.r",
     "varRefreshCmd": "cat(var_dic_list()) "
    }
   },
   "types_to_exclude": [
    "module",
    "function",
    "builtin_function_or_method",
    "instance",
    "_Feature"
   ],
   "window_display": false
  }
 },
 "nbformat": 4,
 "nbformat_minor": 5
}
