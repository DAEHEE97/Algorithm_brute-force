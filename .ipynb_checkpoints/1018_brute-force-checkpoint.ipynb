{
 "cells": [
  {
   "cell_type": "markdown",
   "id": "6b2c428b",
   "metadata": {},
   "source": [
    "# [1018_brute-force 체스판 다시 칠하기](https://www.acmicpc.net/problem/1018)\n",
    "\n"
   ]
  },
  {
   "cell_type": "markdown",
   "id": "2bbb4937",
   "metadata": {},
   "source": [
    "---"
   ]
  },
  {
   "cell_type": "code",
   "execution_count": 31,
   "id": "0fa7c303",
   "metadata": {},
   "outputs": [],
   "source": [
    "def solve(ci,cj):\n",
    "    \n",
    "    cnt_W = 0\n",
    "    cnt_B = 0\n",
    "    \n",
    "    for di in range(0, 8):\n",
    "        \n",
    "        for dj in range(0, 8):\n",
    "            \n",
    "            ni = ci+di\n",
    "            nj = cj+dj\n",
    "            \n",
    "            if arr[ni][nj] != W[di][dj] :\n",
    "                cnt_W += 1\n",
    "                \n",
    "            elif arr[ni][nj] != B[di][dj] :\n",
    "                cnt_B += 1\n",
    "    \n",
    "    return min(cnt_W, cnt_B)\n",
    "\n",
    "                "
   ]
  },
  {
   "cell_type": "code",
   "execution_count": 26,
   "id": "7c999934",
   "metadata": {},
   "outputs": [],
   "source": [
    "W = [\n",
    "'WBWBWBWB',\n",
    "'BWBWBWBW',\n",
    "'WBWBWBWB',\n",
    "'BWBWBWBW',\n",
    "'WBWBWBWB',\n",
    "'BWBWBWBW',\n",
    "'WBWBWBWB',\n",
    "'BWBWBWBW',\n",
    "]"
   ]
  },
  {
   "cell_type": "code",
   "execution_count": 27,
   "id": "fa8c0189",
   "metadata": {},
   "outputs": [],
   "source": [
    "B = [\n",
    "'BWBWBWBW',\n",
    "'WBWBWBWB',\n",
    "'BWBWBWBW',\n",
    "'WBWBWBWB',\n",
    "'BWBWBWBW',\n",
    "'WBWBWBWB',\n",
    "'BWBWBWBW',\n",
    "'WBWBWBWB',\n",
    "]\n"
   ]
  },
  {
   "cell_type": "code",
   "execution_count": 28,
   "id": "a60ded5c",
   "metadata": {},
   "outputs": [
    {
     "name": "stdout",
     "output_type": "stream",
     "text": [
      "10 13\n",
      "BBBBBBBBWBWBW\n",
      "BBBBBBBBBWBWB\n",
      "BBBBBBBBWBWBW\n",
      "BBBBBBBBBWBWB\n",
      "BBBBBBBBWBWBW\n",
      "BBBBBBBBBWBWB\n",
      "BBBBBBBBWBWBW\n",
      "BBBBBBBBBWBWB\n",
      "WWWWWWWWWWBWB\n",
      "WWWWWWWWWWBWB\n"
     ]
    }
   ],
   "source": [
    "N, M = map(int, input().split())\n",
    "\n",
    "arr = [ input() for _ in range(N) ] \n"
   ]
  },
  {
   "cell_type": "code",
   "execution_count": 29,
   "id": "3772126e",
   "metadata": {},
   "outputs": [
    {
     "data": {
      "text/plain": [
       "['BBBBBBBBWBWBW',\n",
       " 'BBBBBBBBBWBWB',\n",
       " 'BBBBBBBBWBWBW',\n",
       " 'BBBBBBBBBWBWB',\n",
       " 'BBBBBBBBWBWBW',\n",
       " 'BBBBBBBBBWBWB',\n",
       " 'BBBBBBBBWBWBW',\n",
       " 'BBBBBBBBBWBWB',\n",
       " 'WWWWWWWWWWBWB',\n",
       " 'WWWWWWWWWWBWB']"
      ]
     },
     "execution_count": 29,
     "metadata": {},
     "output_type": "execute_result"
    }
   ],
   "source": [
    "arr"
   ]
  },
  {
   "cell_type": "code",
   "execution_count": 32,
   "id": "ed7f7eb5",
   "metadata": {},
   "outputs": [],
   "source": [
    "ans = 1000000\n",
    "\n",
    "for si in range(0, N-8 +1):\n",
    "    \n",
    "    for sj in range(0, M-8 +1):\n",
    "        \n",
    "        ans = min( ans , solve(si,sj) )\n",
    "        \n",
    "        \n",
    "    "
   ]
  },
  {
   "cell_type": "code",
   "execution_count": 33,
   "id": "2e806e16",
   "metadata": {},
   "outputs": [
    {
     "data": {
      "text/plain": [
       "12"
      ]
     },
     "execution_count": 33,
     "metadata": {},
     "output_type": "execute_result"
    }
   ],
   "source": [
    "ans"
   ]
  },
  {
   "cell_type": "code",
   "execution_count": null,
   "id": "ff956d2e",
   "metadata": {},
   "outputs": [],
   "source": []
  },
  {
   "cell_type": "code",
   "execution_count": null,
   "id": "98ada025",
   "metadata": {},
   "outputs": [],
   "source": []
  },
  {
   "cell_type": "code",
   "execution_count": null,
   "id": "e3ba62e4",
   "metadata": {},
   "outputs": [],
   "source": []
  },
  {
   "cell_type": "code",
   "execution_count": null,
   "id": "2099aabe",
   "metadata": {},
   "outputs": [],
   "source": []
  }
 ],
 "metadata": {
  "kernelspec": {
   "display_name": "Python 3 (ipykernel)",
   "language": "python",
   "name": "python3"
  },
  "language_info": {
   "codemirror_mode": {
    "name": "ipython",
    "version": 3
   },
   "file_extension": ".py",
   "mimetype": "text/x-python",
   "name": "python",
   "nbconvert_exporter": "python",
   "pygments_lexer": "ipython3",
   "version": "3.8.16"
  },
  "toc": {
   "base_numbering": 1,
   "nav_menu": {},
   "number_sections": true,
   "sideBar": true,
   "skip_h1_title": false,
   "title_cell": "Table of Contents",
   "title_sidebar": "Contents",
   "toc_cell": false,
   "toc_position": {},
   "toc_section_display": true,
   "toc_window_display": false
  },
  "varInspector": {
   "cols": {
    "lenName": 16,
    "lenType": 16,
    "lenVar": 40
   },
   "kernels_config": {
    "python": {
     "delete_cmd_postfix": "",
     "delete_cmd_prefix": "del ",
     "library": "var_list.py",
     "varRefreshCmd": "print(var_dic_list())"
    },
    "r": {
     "delete_cmd_postfix": ") ",
     "delete_cmd_prefix": "rm(",
     "library": "var_list.r",
     "varRefreshCmd": "cat(var_dic_list()) "
    }
   },
   "types_to_exclude": [
    "module",
    "function",
    "builtin_function_or_method",
    "instance",
    "_Feature"
   ],
   "window_display": false
  }
 },
 "nbformat": 4,
 "nbformat_minor": 5
}
