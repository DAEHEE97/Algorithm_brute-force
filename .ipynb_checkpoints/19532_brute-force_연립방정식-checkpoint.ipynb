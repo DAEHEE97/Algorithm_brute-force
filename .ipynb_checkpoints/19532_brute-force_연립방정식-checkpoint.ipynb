{
 "cells": [
  {
   "cell_type": "markdown",
   "id": "a29b4f80",
   "metadata": {},
   "source": [
    "# [19532_brute-force_연립방정식](https://www.acmicpc.net/problem/19532)"
   ]
  },
  {
   "cell_type": "markdown",
   "id": "a93f1df7",
   "metadata": {},
   "source": [
    "---"
   ]
  },
  {
   "cell_type": "code",
   "execution_count": 2,
   "id": "235d3c5e",
   "metadata": {},
   "outputs": [
    {
     "name": "stdout",
     "output_type": "stream",
     "text": [
      "1 3 -1 4 1 7\n",
      "2 -1\n"
     ]
    }
   ],
   "source": [
    "a,b,c,d,e,f = map(int, input().split())\n",
    "\n",
    "for i in range(-999, 999+1):\n",
    "    \n",
    "    for j in range(-999, 999+1):\n",
    "        \n",
    "        if a*i + b*j == c and d*i + e*j == f:\n",
    "            \n",
    "            print(i, j)\n"
   ]
  }
 ],
 "metadata": {
  "kernelspec": {
   "display_name": "Python 3 (ipykernel)",
   "language": "python",
   "name": "python3"
  },
  "language_info": {
   "codemirror_mode": {
    "name": "ipython",
    "version": 3
   },
   "file_extension": ".py",
   "mimetype": "text/x-python",
   "name": "python",
   "nbconvert_exporter": "python",
   "pygments_lexer": "ipython3",
   "version": "3.8.16"
  },
  "toc": {
   "base_numbering": 1,
   "nav_menu": {},
   "number_sections": true,
   "sideBar": true,
   "skip_h1_title": false,
   "title_cell": "Table of Contents",
   "title_sidebar": "Contents",
   "toc_cell": false,
   "toc_position": {},
   "toc_section_display": true,
   "toc_window_display": false
  },
  "varInspector": {
   "cols": {
    "lenName": 16,
    "lenType": 16,
    "lenVar": 40
   },
   "kernels_config": {
    "python": {
     "delete_cmd_postfix": "",
     "delete_cmd_prefix": "del ",
     "library": "var_list.py",
     "varRefreshCmd": "print(var_dic_list())"
    },
    "r": {
     "delete_cmd_postfix": ") ",
     "delete_cmd_prefix": "rm(",
     "library": "var_list.r",
     "varRefreshCmd": "cat(var_dic_list()) "
    }
   },
   "types_to_exclude": [
    "module",
    "function",
    "builtin_function_or_method",
    "instance",
    "_Feature"
   ],
   "window_display": false
  }
 },
 "nbformat": 4,
 "nbformat_minor": 5
}
