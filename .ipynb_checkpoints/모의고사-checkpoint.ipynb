{
 "cells": [
  {
   "cell_type": "code",
   "execution_count": null,
   "id": "93891d7d",
   "metadata": {},
   "outputs": [],
   "source": [
    "def solution(answers):\n",
    "    \n",
    "        \n",
    "    lst_1 = [1, 2, 3, 4, 5]\n",
    "    lst_2 = [2, 1, 2, 3, 2, 4, 2, 5]\n",
    "    lst_3 = [3, 3, 1, 1, 2, 2, 4, 4, 5, 5]\n",
    "    \n",
    "    \n",
    "    cnt_lst = [0] * (3+1)\n",
    "    \n",
    "    for i in range(len(answers)):\n",
    "        \n",
    "        if lst_1[ i % len(lst_1) ] == answers[i]:\n",
    "            cnt_lst[1] += 1\n",
    "            \n",
    "        if lst_2[ i % len(lst_2) ] == answers[i]:\n",
    "            cnt_lst[2] += 1\n",
    "        \n",
    "        if lst_3[ i % len(lst_3) ] == answers[i]:\n",
    "            cnt_lst[3] += 1\n",
    "            \n",
    "        \n",
    "        ans = [ i for i,v in enumerate(cnt_lst) if v == max(cnt_lst) ]\n",
    "        # 1,2,3 번 \n",
    "    return ans"
   ]
  }
 ],
 "metadata": {
  "kernelspec": {
   "display_name": "Python 3 (ipykernel)",
   "language": "python",
   "name": "python3"
  },
  "language_info": {
   "codemirror_mode": {
    "name": "ipython",
    "version": 3
   },
   "file_extension": ".py",
   "mimetype": "text/x-python",
   "name": "python",
   "nbconvert_exporter": "python",
   "pygments_lexer": "ipython3",
   "version": "3.8.16"
  },
  "toc": {
   "base_numbering": 1,
   "nav_menu": {},
   "number_sections": true,
   "sideBar": true,
   "skip_h1_title": false,
   "title_cell": "Table of Contents",
   "title_sidebar": "Contents",
   "toc_cell": false,
   "toc_position": {},
   "toc_section_display": true,
   "toc_window_display": false
  },
  "varInspector": {
   "cols": {
    "lenName": 16,
    "lenType": 16,
    "lenVar": 40
   },
   "kernels_config": {
    "python": {
     "delete_cmd_postfix": "",
     "delete_cmd_prefix": "del ",
     "library": "var_list.py",
     "varRefreshCmd": "print(var_dic_list())"
    },
    "r": {
     "delete_cmd_postfix": ") ",
     "delete_cmd_prefix": "rm(",
     "library": "var_list.r",
     "varRefreshCmd": "cat(var_dic_list()) "
    }
   },
   "types_to_exclude": [
    "module",
    "function",
    "builtin_function_or_method",
    "instance",
    "_Feature"
   ],
   "window_display": false
  }
 },
 "nbformat": 4,
 "nbformat_minor": 5
}
