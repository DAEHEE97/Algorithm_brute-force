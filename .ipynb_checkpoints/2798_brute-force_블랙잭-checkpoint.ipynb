{
 "cells": [
  {
   "cell_type": "markdown",
   "id": "bca9ccf1",
   "metadata": {},
   "source": [
    "# 블랙잭\n"
   ]
  },
  {
   "cell_type": "markdown",
   "id": "d903af06",
   "metadata": {},
   "source": [
    "---"
   ]
  },
  {
   "cell_type": "markdown",
   "id": "9599334e",
   "metadata": {},
   "source": [
    "## Memo\n",
    "\n",
    "- N 개의 카드 중 3개의 합 계산 후 \n",
    "\n",
    "- M을 넘지 않으면서 M에 최대한 가까운 카드, 3 장 의 합 구하기\n"
   ]
  },
  {
   "cell_type": "markdown",
   "id": "9c798237",
   "metadata": {},
   "source": [
    "---"
   ]
  },
  {
   "cell_type": "markdown",
   "id": "7aeb51e0",
   "metadata": {},
   "source": [
    "- 서로 다른 3장(조합)"
   ]
  },
  {
   "cell_type": "code",
   "execution_count": 12,
   "id": "aa1f80fd",
   "metadata": {},
   "outputs": [
    {
     "name": "stdout",
     "output_type": "stream",
     "text": [
      "10 500\n",
      "93 181 245 214 315 36 185 138 216 295\n",
      "497\n"
     ]
    }
   ],
   "source": [
    "from itertools import combinations\n",
    "\n",
    "N, M = map(int, input().split())\n",
    "\n",
    "lst = list(map(int, input().split()))\n",
    "\n",
    "sum_lst = []\n",
    "\n",
    "for tup in combinations(lst, 3):\n",
    "    \n",
    "    sum_lst.append(sum(tup))\n",
    "    \n",
    "\n",
    "    \n",
    "# 3) 정답처리ㅣ, sum 리스트 중, M 값을 넘지 않는 값들 중 최대 값 \n",
    "ans = max([v for v in sum_lst if v <= M])\n",
    "\n",
    "print(ans)"
   ]
  },
  {
   "cell_type": "markdown",
   "id": "92c494d5",
   "metadata": {},
   "source": [
    "---"
   ]
  },
  {
   "cell_type": "markdown",
   "id": "7922be38",
   "metadata": {},
   "source": [
    "- brute-force 완전검색"
   ]
  },
  {
   "cell_type": "code",
   "execution_count": null,
   "id": "fc5f299b",
   "metadata": {},
   "outputs": [],
   "source": [
    "N, M = map(int, input().split())\n",
    "\n",
    "lst = list(map(int, input().split()))\n",
    "\n",
    "ans = 0     \n",
    "\n",
    "for i in range(0, N-2):\n",
    "    \n",
    "    for j in range(i+1, N-1):\n",
    "        \n",
    "        for k in range(j+1, N):\n",
    "            \n",
    "            if ans < lst[i]+lst[j]+lst[k] <= M:\n",
    "                \n",
    "                ans = lst[i]+lst[j]+lst[k]\n",
    "                \n",
    "print(ans)"
   ]
  }
 ],
 "metadata": {
  "kernelspec": {
   "display_name": "Python 3 (ipykernel)",
   "language": "python",
   "name": "python3"
  },
  "language_info": {
   "codemirror_mode": {
    "name": "ipython",
    "version": 3
   },
   "file_extension": ".py",
   "mimetype": "text/x-python",
   "name": "python",
   "nbconvert_exporter": "python",
   "pygments_lexer": "ipython3",
   "version": "3.8.16"
  },
  "toc": {
   "base_numbering": 1,
   "nav_menu": {},
   "number_sections": true,
   "sideBar": true,
   "skip_h1_title": false,
   "title_cell": "Table of Contents",
   "title_sidebar": "Contents",
   "toc_cell": false,
   "toc_position": {},
   "toc_section_display": true,
   "toc_window_display": false
  },
  "varInspector": {
   "cols": {
    "lenName": 16,
    "lenType": 16,
    "lenVar": 40
   },
   "kernels_config": {
    "python": {
     "delete_cmd_postfix": "",
     "delete_cmd_prefix": "del ",
     "library": "var_list.py",
     "varRefreshCmd": "print(var_dic_list())"
    },
    "r": {
     "delete_cmd_postfix": ") ",
     "delete_cmd_prefix": "rm(",
     "library": "var_list.r",
     "varRefreshCmd": "cat(var_dic_list()) "
    }
   },
   "types_to_exclude": [
    "module",
    "function",
    "builtin_function_or_method",
    "instance",
    "_Feature"
   ],
   "window_display": false
  }
 },
 "nbformat": 4,
 "nbformat_minor": 5
}
