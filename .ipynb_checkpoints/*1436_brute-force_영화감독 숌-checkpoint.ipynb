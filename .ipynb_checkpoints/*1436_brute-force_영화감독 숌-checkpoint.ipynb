{
 "cells": [
  {
   "cell_type": "markdown",
   "id": "bbf97e5e",
   "metadata": {},
   "source": [
    "\n",
    "# [1436_brute-force_영화감독 숌](https://www.acmicpc.net/problem/1436)\n",
    "\n",
    "- 666을 포함하여 왼쪽이 증가하는 경우, 오른쪽이 증가하는 경우 가 따로 있음\n",
    "- 완전 탐색, 무작정 증가시키면서 처리  "
   ]
  },
  {
   "cell_type": "markdown",
   "id": "223efb8f",
   "metadata": {},
   "source": [
    "---"
   ]
  },
  {
   "cell_type": "markdown",
   "id": "decfa70b",
   "metadata": {},
   "source": [
    "\n",
    "0666\n",
    "1666\n",
    "2666\n",
    "3666\n",
    "4666\n",
    "5666\n",
    "\n",
    "6661\n",
    "6662\n",
    "6663\n",
    "6664\n",
    "6665\n",
    "6666\n",
    "6667\n",
    "6668\n",
    "6669\n",
    "\n",
    "7666\n",
    "8666\n",
    "9666\n",
    "\n",
    "10666\n",
    "11666"
   ]
  },
  {
   "cell_type": "code",
   "execution_count": null,
   "id": "c861c924",
   "metadata": {},
   "outputs": [],
   "source": [
    "# 첫째 줄에 N이 주어진다. N은 10,000\n",
    "# 666을 포함 하는 숫자들 중, N번째 숫자를 출력\n",
    "# "
   ]
  },
  {
   "cell_type": "code",
   "execution_count": 22,
   "id": "207302fe",
   "metadata": {},
   "outputs": [
    {
     "name": "stdout",
     "output_type": "stream",
     "text": [
      "6\n"
     ]
    }
   ],
   "source": [
    "# 0번째 값 666을 시작으로 하나씩 증가 시키면서, \n",
    "\n",
    "N = int(input())\n",
    "\n",
    "\n",
    "lst = []\n",
    "\n",
    "idx = 0\n",
    "cnt = 666\n",
    "\n",
    "lst.append(cnt)\n",
    "\n",
    "while True:\n",
    "        \n",
    "    \n",
    "    if idx == N:\n",
    "        break\n",
    "\n",
    "    cnt += 1\n",
    "    \n",
    "    if '666' in str(cnt):\n",
    "        idx += 1\n",
    "        lst.append(cnt)\n",
    "\n",
    "\n",
    "print(lst[N-1])"
   ]
  },
  {
   "cell_type": "code",
   "execution_count": 23,
   "id": "566f425a",
   "metadata": {},
   "outputs": [
    {
     "data": {
      "text/plain": [
       "[666, 1666, 2666, 3666, 4666, 5666, 6660]"
      ]
     },
     "execution_count": 23,
     "metadata": {},
     "output_type": "execute_result"
    }
   ],
   "source": [
    "lst"
   ]
  },
  {
   "cell_type": "code",
   "execution_count": 24,
   "id": "3725dce3",
   "metadata": {},
   "outputs": [
    {
     "data": {
      "text/plain": [
       "6660"
      ]
     },
     "execution_count": 24,
     "metadata": {},
     "output_type": "execute_result"
    }
   ],
   "source": [
    "cnt"
   ]
  },
  {
   "cell_type": "code",
   "execution_count": 26,
   "id": "c35d9c89",
   "metadata": {},
   "outputs": [
    {
     "data": {
      "text/plain": [
       "5666"
      ]
     },
     "execution_count": 26,
     "metadata": {},
     "output_type": "execute_result"
    }
   ],
   "source": [
    "lst[6-1]"
   ]
  },
  {
   "cell_type": "code",
   "execution_count": null,
   "id": "f06ceccb",
   "metadata": {},
   "outputs": [],
   "source": []
  }
 ],
 "metadata": {
  "kernelspec": {
   "display_name": "Python 3 (ipykernel)",
   "language": "python",
   "name": "python3"
  },
  "language_info": {
   "codemirror_mode": {
    "name": "ipython",
    "version": 3
   },
   "file_extension": ".py",
   "mimetype": "text/x-python",
   "name": "python",
   "nbconvert_exporter": "python",
   "pygments_lexer": "ipython3",
   "version": "3.8.16"
  },
  "toc": {
   "base_numbering": 1,
   "nav_menu": {},
   "number_sections": true,
   "sideBar": true,
   "skip_h1_title": false,
   "title_cell": "Table of Contents",
   "title_sidebar": "Contents",
   "toc_cell": false,
   "toc_position": {},
   "toc_section_display": true,
   "toc_window_display": false
  },
  "varInspector": {
   "cols": {
    "lenName": 16,
    "lenType": 16,
    "lenVar": 40
   },
   "kernels_config": {
    "python": {
     "delete_cmd_postfix": "",
     "delete_cmd_prefix": "del ",
     "library": "var_list.py",
     "varRefreshCmd": "print(var_dic_list())"
    },
    "r": {
     "delete_cmd_postfix": ") ",
     "delete_cmd_prefix": "rm(",
     "library": "var_list.r",
     "varRefreshCmd": "cat(var_dic_list()) "
    }
   },
   "types_to_exclude": [
    "module",
    "function",
    "builtin_function_or_method",
    "instance",
    "_Feature"
   ],
   "window_display": false
  }
 },
 "nbformat": 4,
 "nbformat_minor": 5
}
