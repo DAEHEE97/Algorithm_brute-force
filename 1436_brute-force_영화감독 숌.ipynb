{
 "cells": [
  {
   "cell_type": "markdown",
   "id": "dba6a259",
   "metadata": {},
   "source": [
    "# [1436_brute-force_영화감독 숌](https://www.acmicpc.net/problem/1436)"
   ]
  },
  {
   "cell_type": "markdown",
   "id": "88a57ab4",
   "metadata": {},
   "source": [
    "---"
   ]
  },
  {
   "cell_type": "markdown",
   "id": "bbf97e5e",
   "metadata": {},
   "source": [
    "- 666을 포함하여 왼쪽이 증가하는 경우, 오른쪽이 증가하는 경우 가 따로 있음\n",
    "\n",
    "- 무작정 증가시키는 작업 > 항상 for n in range(1,~) 처리 해왔는데, +=1 로 처리도 가능"
   ]
  },
  {
   "cell_type": "markdown",
   "id": "223efb8f",
   "metadata": {},
   "source": [
    "---"
   ]
  },
  {
   "cell_type": "markdown",
   "id": "decfa70b",
   "metadata": {},
   "source": [
    "\n",
    "0666\n",
    "1666\n",
    "2666\n",
    "3666\n",
    "4666\n",
    "5666\n",
    "\n",
    "6661\n",
    "6662\n",
    "6663\n",
    "6664\n",
    "6665\n",
    "6666\n",
    "6667\n",
    "6668\n",
    "6669\n",
    "\n",
    "7666\n",
    "8666\n",
    "9666\n",
    "\n",
    "10666\n",
    "11666"
   ]
  },
  {
   "cell_type": "code",
   "execution_count": 1,
   "id": "965ac1e4",
   "metadata": {},
   "outputs": [
    {
     "name": "stdout",
     "output_type": "stream",
     "text": [
      "3\n",
      "2666\n"
     ]
    }
   ],
   "source": [
    "N = int(input())\n",
    "\n",
    "\n",
    "lst= []\n",
    "\n",
    "\n",
    "idx = 0\n",
    "\n",
    "num = 666\n",
    "\n",
    "while(True):\n",
    "        \n",
    "    \n",
    "    if idx == N:    \n",
    "        break\n",
    "\n",
    "    \n",
    "    if '666' in str(num):\n",
    "        \n",
    "        lst.append(num)\n",
    "        idx += 1\n",
    "    \n",
    "    num += 1\n",
    "\n",
    "\n",
    "print(lst[-1])\n",
    "\n",
    "        \n"
   ]
  },
  {
   "cell_type": "code",
   "execution_count": 2,
   "id": "c21747cf",
   "metadata": {},
   "outputs": [
    {
     "data": {
      "text/plain": [
       "[666, 1666, 2666]"
      ]
     },
     "execution_count": 2,
     "metadata": {},
     "output_type": "execute_result"
    }
   ],
   "source": [
    "lst"
   ]
  }
 ],
 "metadata": {
  "kernelspec": {
   "display_name": "Python 3 (ipykernel)",
   "language": "python",
   "name": "python3"
  },
  "language_info": {
   "codemirror_mode": {
    "name": "ipython",
    "version": 3
   },
   "file_extension": ".py",
   "mimetype": "text/x-python",
   "name": "python",
   "nbconvert_exporter": "python",
   "pygments_lexer": "ipython3",
   "version": "3.8.16"
  },
  "toc": {
   "base_numbering": 1,
   "nav_menu": {},
   "number_sections": true,
   "sideBar": true,
   "skip_h1_title": false,
   "title_cell": "Table of Contents",
   "title_sidebar": "Contents",
   "toc_cell": false,
   "toc_position": {},
   "toc_section_display": true,
   "toc_window_display": false
  },
  "varInspector": {
   "cols": {
    "lenName": 16,
    "lenType": 16,
    "lenVar": 40
   },
   "kernels_config": {
    "python": {
     "delete_cmd_postfix": "",
     "delete_cmd_prefix": "del ",
     "library": "var_list.py",
     "varRefreshCmd": "print(var_dic_list())"
    },
    "r": {
     "delete_cmd_postfix": ") ",
     "delete_cmd_prefix": "rm(",
     "library": "var_list.r",
     "varRefreshCmd": "cat(var_dic_list()) "
    }
   },
   "types_to_exclude": [
    "module",
    "function",
    "builtin_function_or_method",
    "instance",
    "_Feature"
   ],
   "window_display": false
  }
 },
 "nbformat": 4,
 "nbformat_minor": 5
}
